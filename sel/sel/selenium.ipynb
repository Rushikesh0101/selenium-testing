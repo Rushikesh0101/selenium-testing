{
 "cells": [
  {
   "cell_type": "code",
   "execution_count": 1,
   "id": "cb9c1840",
   "metadata": {},
   "outputs": [
    {
     "name": "stdout",
     "output_type": "stream",
     "text": [
      "Requirement already satisfied: selenium in c:\\users\\aniket mokal\\python\\lib\\site-packages (4.10.0)\n",
      "Requirement already satisfied: urllib3[socks]<3,>=1.26 in c:\\users\\aniket mokal\\python\\lib\\site-packages (from selenium) (2.0.3)\n",
      "Requirement already satisfied: trio~=0.17 in c:\\users\\aniket mokal\\python\\lib\\site-packages (from selenium) (0.22.2)\n",
      "Requirement already satisfied: trio-websocket~=0.9 in c:\\users\\aniket mokal\\python\\lib\\site-packages (from selenium) (0.10.3)\n",
      "Requirement already satisfied: certifi>=2021.10.8 in c:\\users\\aniket mokal\\python\\lib\\site-packages (from selenium) (2023.5.7)\n",
      "Requirement already satisfied: attrs>=20.1.0 in c:\\users\\aniket mokal\\python\\lib\\site-packages (from trio~=0.17->selenium) (23.1.0)\n",
      "Requirement already satisfied: sortedcontainers in c:\\users\\aniket mokal\\python\\lib\\site-packages (from trio~=0.17->selenium) (2.4.0)\n",
      "Requirement already satisfied: idna in c:\\users\\aniket mokal\\python\\lib\\site-packages (from trio~=0.17->selenium) (3.4)\n",
      "Requirement already satisfied: outcome in c:\\users\\aniket mokal\\python\\lib\\site-packages (from trio~=0.17->selenium) (1.2.0)\n",
      "Requirement already satisfied: sniffio in c:\\users\\aniket mokal\\python\\lib\\site-packages (from trio~=0.17->selenium) (1.3.0)\n",
      "Requirement already satisfied: cffi>=1.14 in c:\\users\\aniket mokal\\python\\lib\\site-packages (from trio~=0.17->selenium) (1.15.1)\n",
      "Requirement already satisfied: exceptiongroup in c:\\users\\aniket mokal\\python\\lib\\site-packages (from trio-websocket~=0.9->selenium) (1.1.2)\n",
      "Requirement already satisfied: wsproto>=0.14 in c:\\users\\aniket mokal\\python\\lib\\site-packages (from trio-websocket~=0.9->selenium) (1.2.0)\n",
      "Requirement already satisfied: pysocks!=1.5.7,<2.0,>=1.5.6 in c:\\users\\aniket mokal\\python\\lib\\site-packages (from urllib3[socks]<3,>=1.26->selenium) (1.7.1)\n",
      "Requirement already satisfied: pycparser in c:\\users\\aniket mokal\\python\\lib\\site-packages (from cffi>=1.14->trio~=0.17->selenium) (2.21)\n",
      "Requirement already satisfied: h11<1,>=0.9.0 in c:\\users\\aniket mokal\\python\\lib\\site-packages (from wsproto>=0.14->trio-websocket~=0.9->selenium) (0.14.0)\n",
      "Note: you may need to restart the kernel to use updated packages.\n"
     ]
    }
   ],
   "source": [
    "pip install selenium"
   ]
  },
  {
   "cell_type": "code",
   "execution_count": 6,
   "id": "b0135d91",
   "metadata": {},
   "outputs": [],
   "source": [
    "from selenium import webdriver\n",
    "from selenium.webdriver.chrome.service import Service\n",
    "import time\n",
    "from selenium.webdriver.common.by import By\n"
   ]
  },
  {
   "cell_type": "code",
   "execution_count": 7,
   "id": "d7faf83a",
   "metadata": {},
   "outputs": [
    {
     "name": "stdout",
     "output_type": "stream",
     "text": [
      "Note: you may need to restart the kernel to use updated packages.\n"
     ]
    },
    {
     "name": "stderr",
     "output_type": "stream",
     "text": [
      "ERROR: Could not open requirements file: [Errno 2] No such file or directory: 'requirements.txt'\n"
     ]
    }
   ],
   "source": [
    "pip install -r requirements.txt\n"
   ]
  },
  {
   "cell_type": "code",
   "execution_count": 8,
   "id": "3b92c4ff",
   "metadata": {},
   "outputs": [],
   "source": [
    "service = Service(executable_path=r\"C:\\Users\\ANIKET MOKAL\\Documents\\sel\\chromedriver.exe\")\n",
    "dv = webdriver.Chrome(service=service)\n",
    "dv.get(\"https://in.indeed.com/\")\n",
    "time.sleep(5)\n",
    "dv.quit()"
   ]
  },
  {
   "cell_type": "code",
   "execution_count": 9,
   "id": "7f10b05e",
   "metadata": {},
   "outputs": [
    {
     "name": "stdout",
     "output_type": "stream",
     "text": [
      "Job Search India | Indeed\n"
     ]
    }
   ],
   "source": [
    "service = Service(executable_path=r\"C:\\Users\\ANIKET MOKAL\\Documents\\sel\\chromedriver.exe\")\n",
    "dv = webdriver.Chrome(service=service)\n",
    "dv.get(\"https://in.indeed.com/\")\n",
    "print(dv.title)\n",
    "time.sleep(2)\n",
    "\n",
    "# ip=dv.find_element_by_name()\n",
    "ip=dv.find_element(\"name\", \"q\")\n",
    "ip.send_keys(\"python developer fresher\")\n",
    "time.sleep(5)\n",
    "\n",
    "# bt=dv.find_element_by_class_name(\"yosegi-InlineWhatWhere-primaryButton\")\n",
    "bt=dv.find_element(By.CLASS_NAME, \"yosegi-InlineWhatWhere-primaryButton\")\n",
    "bt.click()\n",
    "time.sleep(2)\n",
    "dv.quit()"
   ]
  },
  {
   "cell_type": "code",
   "execution_count": null,
   "id": "9188f81a",
   "metadata": {},
   "outputs": [],
   "source": []
  }
 ],
 "metadata": {
  "kernelspec": {
   "display_name": "Python 3 (ipykernel)",
   "language": "python",
   "name": "python3"
  },
  "language_info": {
   "codemirror_mode": {
    "name": "ipython",
    "version": 3
   },
   "file_extension": ".py",
   "mimetype": "text/x-python",
   "name": "python",
   "nbconvert_exporter": "python",
   "pygments_lexer": "ipython3",
   "version": "3.11.3"
  }
 },
 "nbformat": 4,
 "nbformat_minor": 5
}
